{
 "cells": [
  {
   "cell_type": "markdown",
   "metadata": {},
   "source": [
    "ПРИМЕР КЛАССИФИКАЦИИ ТИПОВ ДОКУМЕНТОВ С ПОМОЩЬЮ ДОРАБОТАННОЙ АРХИТЕКТУРЫ НЕЙРОСЕТИ VGG19\n",
    "\n",
    "ТИПЫ ДОКУМЕНТОВ:\n",
    "* 1 Больничные листы/Справки от врача\n",
    "* 2 Трудовые книжки\n",
    "* 24 Фото паспорта\n",
    "* 29 Скрин приложения\n",
    "* 3 Справки о доходах (2-НДФЛ, с места работы, выписка из ПФР)\n",
    "* 6 Подтверждение оплаты (Чеки оплаты/перевода/справки от сторонних банков/скрины)\n",
    "* 7 Платежные поручения\n",
    "\n",
    "Данильченко Вадим"
   ]
  },
  {
   "cell_type": "code",
   "execution_count": 1,
   "metadata": {},
   "outputs": [],
   "source": [
    "# импорт библиотек\n",
    "import pandas as pd\n",
    "import numpy as np\n",
    "import os, math, random\n",
    "from collections import Counter\n",
    "\n",
    "import tensorflow as tf\n",
    "from keras.models import Model\n",
    "from keras.layers import Conv1D, Dense, Flatten, Input, Dropout\n",
    "from keras.utils import to_categorical, Sequence\n",
    "from keras.callbacks import ModelCheckpoint\n",
    "from keras.optimizers import Adam\n",
    "from keras.applications import VGG19\n",
    "\n",
    "from keras.preprocessing.image import img_to_array\n",
    "from PIL import Image\n",
    "import imutils\n",
    "\n",
    "from sklearn.model_selection import train_test_split"
   ]
  },
  {
   "cell_type": "code",
   "execution_count": 2,
   "metadata": {},
   "outputs": [
    {
     "data": {
      "text/plain": [
       "['1 Больничные листыСправки от врача',\n",
       " '2 Трудовые книжки',\n",
       " '24 Фото паспорта',\n",
       " '29 Скрин приложения Хоум Кредит',\n",
       " '3 Справки о доходах (2-НДФЛ, с места работы, выписка из ПФР)',\n",
       " '6 Подтверждение оплаты (Чеки оплатыпереводасправки от сторонних банковскрины)',\n",
       " '7 Платежные поручения']"
      ]
     },
     "execution_count": 2,
     "metadata": {},
     "output_type": "execute_result"
    }
   ],
   "source": [
    "# посмотрим типы документов\n",
    "path = r'F:\\Диск F\\projects\\data\\классификация типов документов'\n",
    "documents = [i for i in os.listdir(path) if str(i[:2]).strip().isnumeric()]\n",
    "documents"
   ]
  },
  {
   "cell_type": "code",
   "execution_count": 3,
   "metadata": {},
   "outputs": [
    {
     "data": {
      "text/plain": [
       "{0: '1 Больничные листыСправки от врача',\n",
       " 1: '2 Трудовые книжки',\n",
       " 2: '24 Фото паспорта',\n",
       " 3: '29 Скрин приложения Хоум Кредит',\n",
       " 4: '3 Справки о доходах (2-НДФЛ, с места работы, выписка из ПФР)',\n",
       " 5: '6 Подтверждение оплаты (Чеки оплатыпереводасправки от сторонних банковскрины)',\n",
       " 6: '7 Платежные поручения'}"
      ]
     },
     "execution_count": 3,
     "metadata": {},
     "output_type": "execute_result"
    }
   ],
   "source": [
    "# создадим словарь и определим номера классов\n",
    "id2doc = {k:v for k,v in enumerate(documents)}\n",
    "classes = len(id2doc)\n",
    "id2doc"
   ]
  },
  {
   "cell_type": "code",
   "execution_count": 4,
   "metadata": {},
   "outputs": [
    {
     "name": "stdout",
     "output_type": "stream",
     "text": [
      "0 F:\\Диск F\\projects\\data\\классификация типов документов\\1 Больничные листыСправки от врача\\009ea4ffd5844ed4a9194dfa936432c8.jpg\n",
      "0 F:\\Диск F\\projects\\data\\классификация типов документов\\1 Больничные листыСправки от врача\\0c515173c4fb47fb87b3f66a5e51ad9b.jpg\n",
      "6 F:\\Диск F\\projects\\data\\классификация типов документов\\7 Платежные поручения\\faf0d337c15c46259abc50a73ed3e2fc.jpg\n",
      "6 F:\\Диск F\\projects\\data\\классификация типов документов\\7 Платежные поручения\\eb0fb02cc1cf4ed0adf1c01dc265ed5d.jpg\n"
     ]
    }
   ],
   "source": [
    "# запишем полный путь до каждого документа в переменную filenames и соответствие с номером класса в целевую переменную\n",
    "filenames = []\n",
    "target = []\n",
    "for target_id, dirname in id2doc.items():\n",
    "    tmp_path = path + '\\\\' + dirname\n",
    "    for filename in os.listdir(tmp_path):\n",
    "        if any(i in filename.lower() for i in ['jpeg', 'jpg', 'bmp', 'png']):\n",
    "            target.append(target_id)\n",
    "            filenames.append(tmp_path + '\\\\' + filename)\n",
    "\n",
    "for i in range(2):\n",
    "    print(target[i], filenames[i])\n",
    "for i in range(1, 3):\n",
    "    print(target[-i], filenames[-i])"
   ]
  },
  {
   "cell_type": "code",
   "execution_count": 5,
   "metadata": {},
   "outputs": [],
   "source": [
    "# преобразуем целевую переменную и разделим выборки на обучающую и тестовую\n",
    "y = to_categorical(target)\n",
    "x_train, x_test, y_train, y_test = train_test_split(filenames, y, test_size=0.05, random_state=777, shuffle=True)#, stratify=target)"
   ]
  },
  {
   "cell_type": "code",
   "execution_count": 6,
   "metadata": {},
   "outputs": [],
   "source": [
    "img = Image.open(x_test[0])\n",
    "img = imutils.resize(np.array(img), width=224, height=224)"
   ]
  },
  {
   "cell_type": "code",
   "execution_count": 7,
   "metadata": {},
   "outputs": [],
   "source": [
    "# создадим генератор, который будет наращивать выборку внутри батча по миноритарным классам, \n",
    "# а также вполнять преобразования над загруженными изображениями \n",
    "# загрузка в память происходит только в рамках батча\n",
    "\n",
    "class DataGenerator(Sequence):\n",
    "\n",
    "    def __init__(self, batch_size, im_list, labels, data_type, mode='train'):\n",
    "        self.bsz = batch_size\n",
    "        self.labels = labels\n",
    "        self.im_list = im_list\n",
    "        self.mode = mode\n",
    "        self.data_type = data_type\n",
    "        self.batch_x = 0\n",
    "        self.batch_y = 0\n",
    "        self.batch_x_ros = 0\n",
    "        self.batch_y_ros = 0\n",
    "        self.idx = 0\n",
    "\n",
    "    def __len__(self):\n",
    "        return int(math.ceil(len(self.labels) / float(self.bsz)))\n",
    "\n",
    "    # загружаем изображение по входящей ссылке на файл\n",
    "    def load_image(self, im):\n",
    "        # распознаем документ\n",
    "        if any(i in im.lower() for i in ['jpeg', 'jpg', 'bmp', 'png']):\n",
    "            img = Image.open(im)\n",
    "        elif 'pdf' in im.lower():\n",
    "            #             img = convert_from_path(im,\n",
    "            #                                     poppler_path='./clx/poppler-0.90.1/bin',\n",
    "            #                                     single_file=True)[0]\n",
    "\n",
    "            #             pdffile = './image_classification/10. ae/00b2a607e5f04b3ab93418031e2e92df.pdf'\n",
    "\n",
    "            doc = fitz.open(im, filetype='pdf')\n",
    "            page = doc.loadPage(0)\n",
    "            pix = page.getPixmap()\n",
    "            img = Image.frombytes('RGB', [pix.width, pix.height], pix.samples)\n",
    "            doc.close()\n",
    "        else:\n",
    "            raise Exception(f'unknown file type: {im}')\n",
    "        return img\n",
    "\n",
    "    # извлекаем данные с изображения\n",
    "    def extract_image(self, img):\n",
    "\n",
    "        # проверим на цветовую гамму, если не RGB, то конвертируем в RGB\n",
    "        if img.mode != 'RGB':\n",
    "            img = img.convert('RGB')\n",
    "\n",
    "        return img_to_array(img.resize((img_width, img_height), 3)) / 255.\n",
    "\n",
    "\n",
    "    def oversampling(self):\n",
    "        cntr = Counter(np.argmax(self.batch_y, axis=1))\n",
    "        max_cnt = max(cntr.values())\n",
    "        #         print(max_cnt)\n",
    "\n",
    "        y_list = np.argmax(self.batch_y, axis=1)\n",
    "        y_dict_new = dict(cntr)\n",
    "        x_batch_new = []\n",
    "        y_list_new = []\n",
    "        for i in range(len(y_list)):\n",
    "            if y_dict_new[y_list[i]] < max_cnt:\n",
    "                for _ in range(2):\n",
    "                    x_batch_new.append(self.batch_x[i])\n",
    "                    y_list_new.append(y_list[i])\n",
    "                    y_dict_new[y_list[i]] += 1\n",
    "            else:\n",
    "                x_batch_new.append(self.batch_x[i])\n",
    "                y_list_new.append(y_list[i])\n",
    "                y_dict_new[y_list[i]] += 1\n",
    "        return np.asarray(x_batch_new), to_categorical(np.asarray(y_list_new), num_classes=classes)\n",
    "\n",
    "    # перемешиваем все элементы, когда находимся в режиме обучения\n",
    "    def on_epoch_end(self):\n",
    "#         self.indexes = range(len(self.labels)) # раскомментить, если нужно случайно выбрать\n",
    "        self.indexes = list(range(len(self.labels)))\n",
    "        if self.mode == 'train':\n",
    "#             self.indexes = random.sample(self.indexes, k=len(self.indexes)) # раскомментить, если нужно случайно выбрать\n",
    "            self.indexes = self.indexes[self.idx * self.bsz: (self.idx + 1) * self.bsz]\n",
    "\n",
    "    # формируем батч из меток класса, который хранится в памяти\n",
    "    def get_batch_labels(self, idx):\n",
    "        return self.labels[idx * self.bsz: (idx + 1) * self.bsz]\n",
    "\n",
    "    # формируем батч фичей, которые будут извлечены из изображений на диске\n",
    "    def get_batch_features(self, idx):\n",
    "        if self.data_type == 'image':\n",
    "            return np.array([self.extract_image(self.load_image(im)) for im in self.im_list[idx * self.bsz: (1 + idx) * self.bsz]])\n",
    "\n",
    "    def __getitem__(self, idx):\n",
    "        self.idx = idx\n",
    "        self.batch_x = self.get_batch_features(idx)\n",
    "        self.batch_y = self.get_batch_labels(idx)\n",
    "#         self.batch_x_ros, self.batch_y_ros = self.oversampling()\n",
    "#         return self.batch_x_ros, self.batch_y_ros\n",
    "        return self.batch_x, self.batch_y"
   ]
  },
  {
   "cell_type": "code",
   "execution_count": 8,
   "metadata": {},
   "outputs": [],
   "source": [
    "# инициализируем генераторы для обучающей и валидационной выборки\n",
    "batch_size = 32\n",
    "img_width = 224  # Ширина изображения\n",
    "img_height = 224  # Высота изображения\n",
    "\n",
    "train_gen_image = DataGenerator(batch_size, x_train, y_train, 'image')\n",
    "test_gen_image = DataGenerator(batch_size, x_test, y_test, 'image')"
   ]
  },
  {
   "cell_type": "code",
   "execution_count": 9,
   "metadata": {},
   "outputs": [],
   "source": [
    "# опишем архитектуру модели\n",
    "base_model = VGG19(weights='./clx/vgg19_weights_tf_dim_ordering_tf_kernels.h5')\n",
    "x = base_model.get_layer('fc2').output\n",
    "# x = Conv1D(16, kernel_size=5, name='conv2d_1')(x)\n",
    "# x = Conv1D(32, kernel_size=3, name='conv2d_2')(x)\n",
    "# x = Flatten()(x)\n",
    "# x = Dense(1024, name='dense_1')(x)\n",
    "# x = Dropout(0.2)(x)\n",
    "x = Dense(512, name='dense_2')(x)\n",
    "# x = Dropout(0.2)(x)\n",
    "# x = Dense(128, name='dense_3')(x)\n",
    "x = Dropout(0.1)(x)\n",
    "x = Dense(32, name='dense_4')(x)\n",
    "x = Dropout(0.2)(x)\n",
    "out = Dense(classes, activation='softmax', name='dense_out')(x)\n",
    "# for layer in base_model.layers:\n",
    "#     layer.trainable = False\n",
    "model = Model(base_model.input, out)"
   ]
  },
  {
   "cell_type": "code",
   "execution_count": 15,
   "metadata": {},
   "outputs": [],
   "source": [
    "# скомпилируем\n",
    "model.compile(loss='categorical_crossentropy',\n",
    "             optimizer=Adam(learning_rate=0.0001),\n",
    "             metrics=['accuracy'])\n",
    "model.load_weights('./clx/model_weights_best_0.0001.hdf5')"
   ]
  },
  {
   "cell_type": "code",
   "execution_count": 16,
   "metadata": {},
   "outputs": [
    {
     "name": "stdout",
     "output_type": "stream",
     "text": [
      "Model: \"model\"\n",
      "_________________________________________________________________\n",
      "Layer (type)                 Output Shape              Param #   \n",
      "=================================================================\n",
      "input_1 (InputLayer)         [(None, 224, 224, 3)]     0         \n",
      "_________________________________________________________________\n",
      "block1_conv1 (Conv2D)        (None, 224, 224, 64)      1792      \n",
      "_________________________________________________________________\n",
      "block1_conv2 (Conv2D)        (None, 224, 224, 64)      36928     \n",
      "_________________________________________________________________\n",
      "block1_pool (MaxPooling2D)   (None, 112, 112, 64)      0         \n",
      "_________________________________________________________________\n",
      "block2_conv1 (Conv2D)        (None, 112, 112, 128)     73856     \n",
      "_________________________________________________________________\n",
      "block2_conv2 (Conv2D)        (None, 112, 112, 128)     147584    \n",
      "_________________________________________________________________\n",
      "block2_pool (MaxPooling2D)   (None, 56, 56, 128)       0         \n",
      "_________________________________________________________________\n",
      "block3_conv1 (Conv2D)        (None, 56, 56, 256)       295168    \n",
      "_________________________________________________________________\n",
      "block3_conv2 (Conv2D)        (None, 56, 56, 256)       590080    \n",
      "_________________________________________________________________\n",
      "block3_conv3 (Conv2D)        (None, 56, 56, 256)       590080    \n",
      "_________________________________________________________________\n",
      "block3_conv4 (Conv2D)        (None, 56, 56, 256)       590080    \n",
      "_________________________________________________________________\n",
      "block3_pool (MaxPooling2D)   (None, 28, 28, 256)       0         \n",
      "_________________________________________________________________\n",
      "block4_conv1 (Conv2D)        (None, 28, 28, 512)       1180160   \n",
      "_________________________________________________________________\n",
      "block4_conv2 (Conv2D)        (None, 28, 28, 512)       2359808   \n",
      "_________________________________________________________________\n",
      "block4_conv3 (Conv2D)        (None, 28, 28, 512)       2359808   \n",
      "_________________________________________________________________\n",
      "block4_conv4 (Conv2D)        (None, 28, 28, 512)       2359808   \n",
      "_________________________________________________________________\n",
      "block4_pool (MaxPooling2D)   (None, 14, 14, 512)       0         \n",
      "_________________________________________________________________\n",
      "block5_conv1 (Conv2D)        (None, 14, 14, 512)       2359808   \n",
      "_________________________________________________________________\n",
      "block5_conv2 (Conv2D)        (None, 14, 14, 512)       2359808   \n",
      "_________________________________________________________________\n",
      "block5_conv3 (Conv2D)        (None, 14, 14, 512)       2359808   \n",
      "_________________________________________________________________\n",
      "block5_conv4 (Conv2D)        (None, 14, 14, 512)       2359808   \n",
      "_________________________________________________________________\n",
      "block5_pool (MaxPooling2D)   (None, 7, 7, 512)         0         \n",
      "_________________________________________________________________\n",
      "flatten (Flatten)            (None, 25088)             0         \n",
      "_________________________________________________________________\n",
      "fc1 (Dense)                  (None, 4096)              102764544 \n",
      "_________________________________________________________________\n",
      "fc2 (Dense)                  (None, 4096)              16781312  \n",
      "_________________________________________________________________\n",
      "dense_2 (Dense)              (None, 512)               2097664   \n",
      "_________________________________________________________________\n",
      "dropout (Dropout)            (None, 512)               0         \n",
      "_________________________________________________________________\n",
      "dense_4 (Dense)              (None, 32)                16416     \n",
      "_________________________________________________________________\n",
      "dropout_1 (Dropout)          (None, 32)                0         \n",
      "_________________________________________________________________\n",
      "dense_out (Dense)            (None, 7)                 231       \n",
      "=================================================================\n",
      "Total params: 141,684,551\n",
      "Trainable params: 141,684,551\n",
      "Non-trainable params: 0\n",
      "_________________________________________________________________\n"
     ]
    }
   ],
   "source": [
    "# посмотрим на слои в рамках архитектуры\n",
    "model.summary()"
   ]
  },
  {
   "cell_type": "code",
   "execution_count": 17,
   "metadata": {
    "scrolled": false
   },
   "outputs": [
    {
     "name": "stdout",
     "output_type": "stream",
     "text": [
      "Epoch 1/5\n",
      "48/48 [==============================] - 777s 16s/step - loss: 1.0804 - accuracy: 0.5597 - val_loss: 1.0120 - val_accuracy: 0.5375\n",
      "Epoch 2/5\n",
      "48/48 [==============================] - 774s 16s/step - loss: 0.9584 - accuracy: 0.6322 - val_loss: 0.7462 - val_accuracy: 0.7000\n",
      "Epoch 3/5\n",
      "48/48 [==============================] - 773s 16s/step - loss: 0.8385 - accuracy: 0.6823 - val_loss: 0.6531 - val_accuracy: 0.7375\n",
      "Epoch 4/5\n",
      "48/48 [==============================] - 775s 16s/step - loss: 0.7884 - accuracy: 0.7218 - val_loss: 0.6825 - val_accuracy: 0.7750\n",
      "Epoch 5/5\n",
      "48/48 [==============================] - 783s 16s/step - loss: 0.7441 - accuracy: 0.7271 - val_loss: 0.6692 - val_accuracy: 0.7375\n"
     ]
    }
   ],
   "source": [
    "# запустим обучение модели\n",
    "history = model.fit_generator(train_gen_image,\n",
    "                    epochs=5,\n",
    "                    validation_data=test_gen_image,\n",
    "                    verbose=1,\n",
    "                    # use_multiprocessing=False,\n",
    "                    callbacks=ModelCheckpoint(\n",
    "                                            './clx/model_weights_best_0.0001.hdf5',\n",
    "                                            monitor=\"val_loss\",\n",
    "                                            save_best_only=True,\n",
    "                                            save_weights_only=True,\n",
    "                                            mode=\"auto\",\n",
    "                                            save_freq=\"epoch\"),\n",
    "                    # workers=4)\n",
    "                    )\n",
    "\n"
   ]
  },
  {
   "cell_type": "code",
   "execution_count": 18,
   "metadata": {},
   "outputs": [
    {
     "data": {
      "text/plain": [
       "[0.6530642509460449, 0.737500011920929]"
      ]
     },
     "execution_count": 18,
     "metadata": {},
     "output_type": "execute_result"
    }
   ],
   "source": [
    "# провалидируем на лучших весах\n",
    "model.load_weights('./clx/model_weights_best_0.0001.hdf5')\n",
    "model.evaluate_generator(test_gen_image)"
   ]
  },
  {
   "cell_type": "code",
   "execution_count": 19,
   "metadata": {},
   "outputs": [
    {
     "data": {
      "image/png": "[encoded data removed]",
      "text/plain": [
       "<Figure size 432x288 with 1 Axes>"
      ]
     },
     "metadata": {
      "needs_background": "light"
     },
     "output_type": "display_data"
    }
   ],
   "source": [
    "# Оображаем график точности обучения\n",
    "import matplotlib.pyplot as plt\n",
    "plt.plot(history.history['accuracy'],\n",
    "         label='Доля верных ответов на обучающем наборе')\n",
    "plt.plot(history.history['val_accuracy'],\n",
    "         label='Доля верных ответов на проверочном наборе')\n",
    "plt.xlabel('Эпоха обучения')\n",
    "plt.ylabel('Доля верных ответов')\n",
    "plt.legend()\n",
    "plt.show()"
   ]
  },
  {
   "cell_type": "markdown",
   "metadata": {},
   "source": [
    "-------------------------------------"
   ]
  },
  {
   "cell_type": "markdown",
   "metadata": {},
   "source": [
    "Вывод: эксперимент показал, что подобную архитектуру можно пробовать для классификации типов документов, конечно еще стоит поработать над улучшением результатов, но в первом приближении довольно неплохо"
   ]
  }
 ],
 "metadata": {
  "kernelspec": {
   "display_name": "test-env3",
   "language": "python",
   "name": "test-env3"
  },
  "language_info": {
   "codemirror_mode": {
    "name": "ipython",
    "version": 3
   },
   "file_extension": ".py",
   "mimetype": "text/x-python",
   "name": "python",
   "nbconvert_exporter": "python",
   "pygments_lexer": "ipython3",
   "version": "3.7.4"
  }
 },
 "nbformat": 4,
 "nbformat_minor": 5
}
