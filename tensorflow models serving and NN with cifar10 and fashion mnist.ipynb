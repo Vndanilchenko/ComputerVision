{
  "nbformat": 4,
  "nbformat_minor": 0,
  "metadata": {
    "colab": {
      "name": "tf_serving1_34.ipynb",
      "provenance": [],
      "collapsed_sections": []
    },
    "kernelspec": {
      "name": "python3",
      "display_name": "Python 3"
    }
  },
  "cells": [
    {
      "cell_type": "markdown",
      "metadata": {
        "id": "s8t8jjGW-_Aq"
      },
      "source": [
        "## ОБУЧИМ НЕСКОЛЬКО НЕЙРОСЕТЕЙ НА РАЗНЫХ ДАТАСЕТАХ И РАЗВЕРНЕМ ИХ С ПОМОЩЬЮ TENSORFLOW SERVING, ПРОСТЕСТИРУЕМ ВЗАИМОДЕЙСТВИЕ С НИМИ ПО API\n",
        "\n",
        "Данильченко Вадим"
      ]
    },
    {
      "cell_type": "code",
      "metadata": {
        "id": "hqmIvEyI--KN"
      },
      "source": [
        "# загрузим нужные библиотеки\n",
        "import random\n",
        "import numpy as np\n",
        "import os\n",
        "from tensorflow.keras import backend as K\n",
        "from tensorflow.keras.models import Sequential, Model\n",
        "from tensorflow.keras.layers import Dense, Conv2D, MaxPooling2D, Dropout, Flatten, BatchNormalization, Input \n",
        "from tensorflow.keras import utils\n",
        "from tensorflow.keras.preprocessing import image\n",
        "from tensorflow.keras.optimizers import RMSprop\n",
        "from tensorflow.python.keras.preprocessing.image import ImageDataGenerator\n",
        "from tensorflow.keras.callbacks import ReduceLROnPlateau, ModelCheckpoint, EarlyStopping\n",
        "from tensorflow.keras.utils import to_categorical\n",
        "import tensorflow as tf\n",
        "from sklearn.model_selection import train_test_split"
      ],
      "execution_count": 185,
      "outputs": []
    },
    {
      "cell_type": "markdown",
      "metadata": {
        "id": "a4OrGw5m-vc_"
      },
      "source": [
        "### обучим модель классифицировать датасет fashion mnist\n",
        "\n",
        "Label\tDescription\n",
        "* 0\tT-shirt/top\n",
        "* 1\tTrouser\n",
        "* 2\tPullover\n",
        "* 3\tDress\n",
        "* 4\tCoat\n",
        "* 5\tSandal\n",
        "* 6\tShirt\n",
        "* 7\tSneaker\n",
        "* 8\tBag\n",
        "* 9\tAnkle boot"
      ]
    },
    {
      "cell_type": "code",
      "metadata": {
        "id": "gIaC_HtX_MUx"
      },
      "source": [
        "# скачаем датасет mnist\n",
        "fashion_mnist = tf.keras.datasets.fashion_mnist\n",
        "\n",
        "(x_train, y_train), (x_test, y_test) = fashion_mnist.load_data()"
      ],
      "execution_count": 2,
      "outputs": []
    },
    {
      "cell_type": "code",
      "metadata": {
        "id": "O9yckvXn_-6Q",
        "colab": {
          "base_uri": "https://localhost:8080/"
        },
        "outputId": "a5696e5c-1487-46cd-bd5c-1594fa2eb072"
      },
      "source": [
        "# выполним преобразование размерностей\n",
        "x_train = x_train.reshape(x_train.shape[0], 28, 28, 1)\n",
        "x_train = x_train / 255.0\n",
        "input_shape = (28, 28, 1)\n",
        "\n",
        "y_train = utils.to_categorical(y_train)\n",
        "\n",
        "x_test = x_test.reshape(x_test.shape[0], 28, 28, 1)\n",
        "x_test = x_test / 255.0\n",
        "\n",
        "print(x_train.shape, x_test.shape)"
      ],
      "execution_count": 3,
      "outputs": [
        {
          "output_type": "stream",
          "name": "stdout",
          "text": [
            "(60000, 28, 28, 1) (10000, 28, 28, 1)\n"
          ]
        }
      ]
    },
    {
      "cell_type": "code",
      "metadata": {
        "id": "1Eb7WLHJpoPh"
      },
      "source": [
        "# создадим генератор изображений\n",
        "batch_size = 256\n",
        "num_classes = 10\n",
        "epochs = 10\n",
        "\n",
        "# размер входящего изображения\n",
        "img_rows, img_cols = 28, 28\n",
        "\n",
        "\n",
        "image_datagen = tf.keras.preprocessing.image.ImageDataGenerator(featurewise_center=True, \n",
        "                                                                featurewise_std_normalization=True, \n",
        "                                                                validation_split=0.2)\n",
        "image_datagen.fit(x_train)\n",
        "\n",
        "# train\n",
        "train_generator = image_datagen.flow(x_train, y_train, \n",
        "                                       shuffle=True,\n",
        "                                       batch_size=batch_size,\n",
        "                                       subset=\"training\")\n",
        "# test\n",
        "valid_generator = image_datagen.flow(x_train, y_train, \n",
        "                                       shuffle=False,\n",
        "                                       batch_size=batch_size,\n",
        "                                       subset=\"validation\")"
      ],
      "execution_count": 4,
      "outputs": []
    },
    {
      "cell_type": "code",
      "metadata": {
        "id": "R3J0p2TtA2rk",
        "colab": {
          "base_uri": "https://localhost:8080/"
        },
        "outputId": "12baef11-c097-46da-be19-0309830268e5"
      },
      "source": [
        "# опишем архитектруру нейросети и проведем обучение\n",
        "\n",
        "model = Sequential()\n",
        "model.add(BatchNormalization(input_shape=(28,28,1)))\n",
        "model.add(Conv2D(32, kernel_size=(3, 3), activation='relu'))\n",
        "model.add(Conv2D(32, (3, 3), activation='relu'))\n",
        "model.add(MaxPooling2D(pool_size=(2, 2)))\n",
        "model.add(Dropout(0.25))\n",
        "model.add(Flatten())\n",
        "model.add(Dense(128, activation='relu'))\n",
        "model.add(Dropout(0.5))\n",
        "model.add(Dense(num_classes, activation='softmax'))\n",
        "\n",
        "model.compile(loss=tf.keras.losses.categorical_crossentropy, \n",
        "              optimizer=tf.keras.optimizers.Adam(learning_rate=0.001), \n",
        "              metrics=['accuracy'])\n",
        "\n",
        "\n",
        "model.fit_generator(generator=train_generator,\n",
        "                    validation_data=valid_generator,\n",
        "                    # steps_per_epoch=len(x_train) // batch_size, \n",
        "                    epochs=epochs, \n",
        "                    verbose=1)"
      ],
      "execution_count": 5,
      "outputs": [
        {
          "output_type": "stream",
          "name": "stderr",
          "text": [
            "/usr/local/lib/python3.7/dist-packages/keras/engine/training.py:1972: UserWarning: `Model.fit_generator` is deprecated and will be removed in a future version. Please use `Model.fit`, which supports generators.\n",
            "  warnings.warn('`Model.fit_generator` is deprecated and '\n"
          ]
        },
        {
          "output_type": "stream",
          "name": "stdout",
          "text": [
            "Epoch 1/10\n",
            "188/188 [==============================] - 83s 438ms/step - loss: 0.6247 - accuracy: 0.7787 - val_loss: 0.3517 - val_accuracy: 0.8747\n",
            "Epoch 2/10\n",
            "188/188 [==============================] - 82s 435ms/step - loss: 0.3837 - accuracy: 0.8625 - val_loss: 0.2920 - val_accuracy: 0.8986\n",
            "Epoch 3/10\n",
            "188/188 [==============================] - 82s 434ms/step - loss: 0.3286 - accuracy: 0.8834 - val_loss: 0.2657 - val_accuracy: 0.9038\n",
            "Epoch 4/10\n",
            "188/188 [==============================] - 82s 435ms/step - loss: 0.2970 - accuracy: 0.8913 - val_loss: 0.2485 - val_accuracy: 0.9083\n",
            "Epoch 5/10\n",
            "188/188 [==============================] - 82s 435ms/step - loss: 0.2703 - accuracy: 0.9026 - val_loss: 0.2373 - val_accuracy: 0.9116\n",
            "Epoch 6/10\n",
            "188/188 [==============================] - 81s 433ms/step - loss: 0.2522 - accuracy: 0.9089 - val_loss: 0.2267 - val_accuracy: 0.9178\n",
            "Epoch 7/10\n",
            "188/188 [==============================] - 82s 434ms/step - loss: 0.2347 - accuracy: 0.9141 - val_loss: 0.2214 - val_accuracy: 0.9166\n",
            "Epoch 8/10\n",
            "188/188 [==============================] - 81s 433ms/step - loss: 0.2219 - accuracy: 0.9202 - val_loss: 0.2172 - val_accuracy: 0.9211\n",
            "Epoch 9/10\n",
            "188/188 [==============================] - 82s 434ms/step - loss: 0.2088 - accuracy: 0.9235 - val_loss: 0.2161 - val_accuracy: 0.9227\n",
            "Epoch 10/10\n",
            "188/188 [==============================] - 82s 435ms/step - loss: 0.2000 - accuracy: 0.9259 - val_loss: 0.2092 - val_accuracy: 0.9223\n"
          ]
        },
        {
          "output_type": "execute_result",
          "data": {
            "text/plain": [
              "<keras.callbacks.History at 0x7f486f835b90>"
            ]
          },
          "metadata": {},
          "execution_count": 5
        }
      ]
    },
    {
      "cell_type": "code",
      "metadata": {
        "colab": {
          "base_uri": "https://localhost:8080/"
        },
        "id": "ldulcoJzE70V",
        "outputId": "d2771b55-fa44-475e-e4e0-f0676ecfb8b2"
      },
      "source": [
        "model.summary()"
      ],
      "execution_count": 172,
      "outputs": [
        {
          "output_type": "stream",
          "name": "stdout",
          "text": [
            "Model: \"sequential\"\n",
            "_________________________________________________________________\n",
            "Layer (type)                 Output Shape              Param #   \n",
            "=================================================================\n",
            "batch_normalization (BatchNo (None, 28, 28, 1)         4         \n",
            "_________________________________________________________________\n",
            "conv2d (Conv2D)              (None, 26, 26, 32)        320       \n",
            "_________________________________________________________________\n",
            "conv2d_1 (Conv2D)            (None, 24, 24, 32)        9248      \n",
            "_________________________________________________________________\n",
            "max_pooling2d (MaxPooling2D) (None, 12, 12, 32)        0         \n",
            "_________________________________________________________________\n",
            "dropout (Dropout)            (None, 12, 12, 32)        0         \n",
            "_________________________________________________________________\n",
            "flatten (Flatten)            (None, 4608)              0         \n",
            "_________________________________________________________________\n",
            "dense (Dense)                (None, 128)               589952    \n",
            "_________________________________________________________________\n",
            "dropout_1 (Dropout)          (None, 128)               0         \n",
            "_________________________________________________________________\n",
            "dense_1 (Dense)              (None, 10)                1290      \n",
            "=================================================================\n",
            "Total params: 600,814\n",
            "Trainable params: 600,812\n",
            "Non-trainable params: 2\n",
            "_________________________________________________________________\n"
          ]
        }
      ]
    },
    {
      "cell_type": "code",
      "metadata": {
        "id": "xCrg9Sy9B6aY"
      },
      "source": [
        "# Установка дополнительного компонента\n",
        "!pip install -Uq grpcio==1.26.0"
      ],
      "execution_count": 6,
      "outputs": []
    },
    {
      "cell_type": "code",
      "metadata": {
        "id": "WqY85PswCIC3",
        "colab": {
          "base_uri": "https://localhost:8080/"
        },
        "outputId": "749b1c82-c887-4f28-df0c-f04485cb8cda"
      },
      "source": [
        "# задание директории для экспорта модели в SavedModel\n",
        "import tempfile\n",
        "\n",
        "MODEL_DIR = tempfile.gettempdir()\n",
        "os.environ[\"MODEL_DIR\"] = MODEL_DIR\n",
        "\n",
        "version = 2\n",
        "export_path = os.path.join(MODEL_DIR, str(version))\n",
        "print('export_path = {}\\n'.format(export_path))"
      ],
      "execution_count": 64,
      "outputs": [
        {
          "output_type": "stream",
          "name": "stdout",
          "text": [
            "export_path = /tmp/2\n",
            "\n"
          ]
        }
      ]
    },
    {
      "cell_type": "code",
      "metadata": {
        "id": "5L2-NM_iHKV5"
      },
      "source": [
        "from tensorflow.python.saved_model import tag_constants, signature_constants\n",
        "from tensorflow.python.saved_model import builder as saved_model_builder\n",
        "from tensorflow.python.saved_model.signature_def_utils_impl import build_signature_def, predict_signature_def\n",
        "import tensorflow as tf\n",
        "from keras.models import model_from_config\n"
      ],
      "execution_count": 8,
      "outputs": []
    },
    {
      "cell_type": "code",
      "metadata": {
        "id": "imKWeLi6I4xy",
        "colab": {
          "base_uri": "https://localhost:8080/"
        },
        "outputId": "8dbb8157-9030-485f-e80a-8e27df59e38b"
      },
      "source": [
        "# Кастомная сигнатура с помощью класса Module\n",
        "class MyModule(tf.Module):\n",
        "  def __init__(self, model, other_variable):\n",
        "    self.model = model\n",
        "    self.other_variable = other_variable\n",
        "\n",
        "  @tf.function(input_signature=[tf.TensorSpec(shape=(1, None, None,None), dtype=tf.float32)])\n",
        "  def score(self, image):\n",
        "    print(\"shape:\", image.shape)\n",
        "    result = self.model(image)\n",
        "    return { \"scores\": result }\n",
        "\n",
        "  @tf.function(input_signature=[tf.TensorSpec([])])\n",
        "  def metadata(self,x):\n",
        "    return { \"other_variable\": self.other_variable }\n",
        "\n",
        "module = MyModule(model, 2)\n",
        "tf.saved_model.save(module, \n",
        "                    export_dir=export_path, \n",
        "                    signatures={ \"score\": module.score, \n",
        "                                \"metadata\": module.metadata })"
      ],
      "execution_count": 138,
      "outputs": [
        {
          "output_type": "stream",
          "name": "stdout",
          "text": [
            "shape: (1, None, None, None)\n",
            "INFO:tensorflow:Assets written to: /tmp/2/assets\n"
          ]
        }
      ]
    },
    {
      "cell_type": "code",
      "metadata": {
        "colab": {
          "base_uri": "https://localhost:8080/"
        },
        "id": "OWxpkRffITtk",
        "outputId": "f1776004-fb5d-41e9-fcf9-887eca259f6b"
      },
      "source": [
        "## Установим TF Serving\n",
        "!echo \"deb http://storage.googleapis.com/tensorflow-serving-apt stable tensorflow-model-server tensorflow-model-server-universal\" | tee /etc/apt/sources.list.d/tensorflow-serving.list && \\\n",
        "curl https://storage.googleapis.com/tensorflow-serving-apt/tensorflow-serving.release.pub.gpg | apt-key add -\n",
        "!apt update"
      ],
      "execution_count": 18,
      "outputs": [
        {
          "output_type": "stream",
          "name": "stdout",
          "text": [
            "deb http://storage.googleapis.com/tensorflow-serving-apt stable tensorflow-model-server tensorflow-model-server-universal\n",
            "  % Total    % Received % Xferd  Average Speed   Time    Time     Time  Current\n",
            "                                 Dload  Upload   Total   Spent    Left  Speed\n",
            "100  2943  100  2943    0     0    99k      0 --:--:-- --:--:-- --:--:--  102k\n",
            "OK\n",
            "Get:1 http://storage.googleapis.com/tensorflow-serving-apt stable InRelease [3,012 B]\n",
            "Get:2 http://security.ubuntu.com/ubuntu bionic-security InRelease [88.7 kB]\n",
            "Get:3 https://cloud.r-project.org/bin/linux/ubuntu bionic-cran40/ InRelease [3,626 B]\n",
            "Ign:4 https://developer.download.nvidia.com/compute/cuda/repos/ubuntu1804/x86_64  InRelease\n",
            "Hit:5 http://ppa.launchpad.net/c2d4u.team/c2d4u4.0+/ubuntu bionic InRelease\n",
            "Hit:6 http://archive.ubuntu.com/ubuntu bionic InRelease\n",
            "Ign:7 https://developer.download.nvidia.com/compute/machine-learning/repos/ubuntu1804/x86_64  InRelease\n",
            "Hit:8 https://developer.download.nvidia.com/compute/cuda/repos/ubuntu1804/x86_64  Release\n",
            "Hit:9 https://developer.download.nvidia.com/compute/machine-learning/repos/ubuntu1804/x86_64  Release\n",
            "Get:10 http://storage.googleapis.com/tensorflow-serving-apt stable/tensorflow-model-server amd64 Packages [341 B]\n",
            "Get:11 http://storage.googleapis.com/tensorflow-serving-apt stable/tensorflow-model-server-universal amd64 Packages [348 B]\n",
            "Get:12 http://archive.ubuntu.com/ubuntu bionic-updates InRelease [88.7 kB]\n",
            "Hit:13 http://ppa.launchpad.net/cran/libgit2/ubuntu bionic InRelease\n",
            "Get:14 http://security.ubuntu.com/ubuntu bionic-security/main amd64 Packages [2,367 kB]\n",
            "Hit:15 http://ppa.launchpad.net/deadsnakes/ppa/ubuntu bionic InRelease\n",
            "Get:16 http://archive.ubuntu.com/ubuntu bionic-backports InRelease [74.6 kB]\n",
            "Get:17 http://security.ubuntu.com/ubuntu bionic-security/restricted amd64 Packages [607 kB]\n",
            "Get:18 http://security.ubuntu.com/ubuntu bionic-security/universe amd64 Packages [1,431 kB]\n",
            "Hit:19 http://ppa.launchpad.net/graphics-drivers/ppa/ubuntu bionic InRelease\n",
            "Get:22 http://archive.ubuntu.com/ubuntu bionic-updates/restricted amd64 Packages [640 kB]\n",
            "Get:23 http://archive.ubuntu.com/ubuntu bionic-updates/main amd64 Packages [2,803 kB]\n",
            "Get:24 http://archive.ubuntu.com/ubuntu bionic-updates/universe amd64 Packages [2,210 kB]\n",
            "Fetched 10.3 MB in 3s (2,977 kB/s)\n",
            "Reading package lists... Done\n",
            "Building dependency tree       \n",
            "Reading state information... Done\n",
            "37 packages can be upgraded. Run 'apt list --upgradable' to see them.\n"
          ]
        }
      ]
    },
    {
      "cell_type": "code",
      "metadata": {
        "colab": {
          "base_uri": "https://localhost:8080/"
        },
        "id": "ZLQ5h2rnIt5K",
        "outputId": "01ac344c-39a7-425a-c692-8254bf9dc246"
      },
      "source": [
        "!apt-get install tensorflow-model-server"
      ],
      "execution_count": 19,
      "outputs": [
        {
          "output_type": "stream",
          "name": "stdout",
          "text": [
            "Reading package lists... Done\n",
            "Building dependency tree       \n",
            "Reading state information... Done\n",
            "The following NEW packages will be installed:\n",
            "  tensorflow-model-server\n",
            "0 upgraded, 1 newly installed, 0 to remove and 37 not upgraded.\n",
            "Need to get 347 MB of archives.\n",
            "After this operation, 0 B of additional disk space will be used.\n",
            "Get:1 http://storage.googleapis.com/tensorflow-serving-apt stable/tensorflow-model-server amd64 tensorflow-model-server all 2.6.0 [347 MB]\n",
            "Fetched 347 MB in 5s (67.2 MB/s)\n",
            "Selecting previously unselected package tensorflow-model-server.\n",
            "(Reading database ... 155047 files and directories currently installed.)\n",
            "Preparing to unpack .../tensorflow-model-server_2.6.0_all.deb ...\n",
            "Unpacking tensorflow-model-server (2.6.0) ...\n",
            "Setting up tensorflow-model-server (2.6.0) ...\n"
          ]
        }
      ]
    },
    {
      "cell_type": "code",
      "metadata": {
        "id": "FR3UEPWgM4CZ"
      },
      "source": [
        "\"\"\"\n",
        "добавим конфигурацию в model.config для корректного запуска сервера с моделью\n",
        "model_config_list {\n",
        "  config {\n",
        "    name: 'fashion_model'\n",
        "    base_path: '/tmp/'\n",
        "    model_platform: 'tensorflow'\n",
        "    model_version_policy {\n",
        "      specific {\n",
        "        versions: 1\n",
        "      }\n",
        "    }\n",
        "    version_labels {\n",
        "      key: 'stable'\n",
        "      value: 1\n",
        "    }\n",
        "    version_labels {\n",
        "      key: 'canary'\n",
        "      value: 1\n",
        "    }\n",
        "  }\n",
        "}\n",
        "\"\"\"\n",
        "\n",
        "!echo \"model_config_list { \" \\\n",
        "  \"config {\" \\\n",
        "    \"name: 'fashion_model'\" \\\n",
        "    \"base_path: '/tmp/'\" \\\n",
        "    \"model_platform: 'tensorflow'\" \\\n",
        "    \"model_version_policy {\" \\\n",
        "      \"specific {\" \\\n",
        "        \"versions: 1\" \\\n",
        "      \"}\" \\\n",
        "    \"}\" \\\n",
        "    \"version_labels {\" \\\n",
        "      \"key: 'stable'\" \\\n",
        "      \"value: 1\" \\\n",
        "    \"}\" \\\n",
        "    \"version_labels {\" \\\n",
        "      \"key: 'canary'\" \\\n",
        "      \"value: 1\" \\\n",
        "    \"}\" \\\n",
        "  \"}\" \\\n",
        "\"}\" \\\n",
        " >> models.config"
      ],
      "execution_count": 31,
      "outputs": []
    },
    {
      "cell_type": "code",
      "metadata": {
        "colab": {
          "base_uri": "https://localhost:8080/"
        },
        "id": "eZhbOGlhhmlu",
        "outputId": "7404c939-e4a0-4a2f-b59a-b4aa33aa2155"
      },
      "source": [
        "!ps -ef | grep tensorflow_model_server"
      ],
      "execution_count": 96,
      "outputs": [
        {
          "output_type": "stream",
          "name": "stdout",
          "text": [
            "root        3356    2470  0 11:23 ?        00:00:00 /bin/bash -c ps -ef | grep tensorflow_model_server\n",
            "root        3358    3356  0 11:23 ?        00:00:00 grep tensorflow_model_server\n"
          ]
        }
      ]
    },
    {
      "cell_type": "code",
      "metadata": {
        "id": "dqGV6mtnh8EN"
      },
      "source": [
        "!kill -9 2388 2430 2673 2721 2770 2965 3075"
      ],
      "execution_count": 95,
      "outputs": []
    },
    {
      "cell_type": "code",
      "metadata": {
        "colab": {
          "base_uri": "https://localhost:8080/"
        },
        "id": "wWSNsuG1I91-",
        "outputId": "35ce0fea-efe9-44e2-d522-07374d9d22ce"
      },
      "source": [
        "# Задаем параметры запуска в tf.serving , и запускаем serving с конфигом\n",
        "%%bash --bg \n",
        "nohup tensorflow_model_server \\\n",
        "  --rest_api_port=8505 \\\n",
        "  --allow_version_labels_for_unavailable_models \\\n",
        "  --model_config_file=models.config \\\n",
        "  --model_config_file_poll_wait_seconds=60  >server.log 2>&1"
      ],
      "execution_count": 220,
      "outputs": [
        {
          "output_type": "stream",
          "name": "stdout",
          "text": [
            "Starting job # 10 in a separate thread.\n"
          ]
        }
      ]
    },
    {
      "cell_type": "code",
      "metadata": {
        "colab": {
          "base_uri": "https://localhost:8080/"
        },
        "id": "rbPKxPUIhvGU",
        "outputId": "74fbceef-efba-48f6-95f8-9e80f0fa8463"
      },
      "source": [
        "!tail server.log"
      ],
      "execution_count": 99,
      "outputs": [
        {
          "output_type": "stream",
          "name": "stdout",
          "text": [
            "2021-10-14 11:23:39.278310: I tensorflow_serving/model_servers/server_core.cc:486] Finished adding/updating models\n",
            "2021-10-14 11:23:39.278427: I tensorflow_serving/model_servers/server.cc:133] Using InsecureServerCredentials\n",
            "2021-10-14 11:23:39.278445: I tensorflow_serving/model_servers/server.cc:383] Profiler service is enabled\n",
            "2021-10-14 11:23:39.278837: I tensorflow_serving/model_servers/server_core.cc:465] Adding/updating models.\n",
            "2021-10-14 11:23:39.278887: I tensorflow_serving/model_servers/server_core.cc:591]  (Re-)adding model: fashion_model\n",
            "2021-10-14 11:23:39.278920: I tensorflow_serving/model_servers/server_core.cc:486] Finished adding/updating models\n",
            "2021-10-14 11:23:39.279096: I tensorflow_serving/model_servers/server.cc:409] Running gRPC ModelServer at 0.0.0.0:8500 ...\n",
            "[warn] getaddrinfo: address family for nodename not supported\n",
            "2021-10-14 11:23:39.279653: I tensorflow_serving/model_servers/server.cc:430] Exporting HTTP/REST API at:localhost:8505 ...\n",
            "[evhttp_server.cc : 245] NET_LOG: Entering the event loop ...\n"
          ]
        }
      ]
    },
    {
      "cell_type": "code",
      "metadata": {
        "colab": {
          "base_uri": "https://localhost:8080/",
          "height": 301
        },
        "id": "TuTVDkl3JCdq",
        "outputId": "c65f3315-d4a9-493d-bd4f-3ab38c765bb8"
      },
      "source": [
        "# Подготовка данных для запроса TF Serving\n",
        "\n",
        "import random\n",
        "import json\n",
        "n_img = random.randint(0,len(x_test)-1)\n",
        "# просмотр сигнатуры metadata\n",
        "# data = json.dumps({\"signature_name\": 'metadata', \"inputs\": {\"x\":x_test[0:3].tolist()}})\n",
        "data = json.dumps({\"signature_name\": 'score', \"inputs\": x_test[n_img].reshape(1, 28, 28, 1).tolist()})\n",
        "\n",
        "## Тестовое изображение\n",
        "import matplotlib.pyplot as plt\n",
        "def show(idx, title):\n",
        "  plt.figure()\n",
        "  plt.imshow(x_test[idx].reshape(28,28))\n",
        "  plt.axis('off')\n",
        "  plt.title('\\n\\n{}'.format(title), fontdict={'size': 16})\n",
        "\n",
        "show(n_img, 'Test Image')"
      ],
      "execution_count": 264,
      "outputs": [
        {
          "output_type": "display_data",
          "data": {
            "image/png": "[encoded data removed]",
            "text/plain": [
              "<Figure size 432x288 with 1 Axes>"
            ]
          },
          "metadata": {
            "needs_background": "light"
          }
        }
      ]
    },
    {
      "cell_type": "code",
      "metadata": {
        "colab": {
          "base_uri": "https://localhost:8080/"
        },
        "id": "fwy59vttIDe5",
        "outputId": "d0c370b3-3709-44cf-f5e5-f2c3be705962"
      },
      "source": [
        "# получаем предсказание\n",
        "\n",
        "label_descr = {\n",
        "    0:\t'T-shirt/top',\n",
        "    1:\t'Trouser',\n",
        "    2:\t'Pullover',\n",
        "    3:\t'Dress',\n",
        "    4:\t'Coat',\n",
        "    5:\t'Sandal',\n",
        "    6:\t'Shirt',\n",
        "    7:\t'Sneaker',\n",
        "    8:\t'Bag',\n",
        "    9:\t'Ankle boot'}\n",
        "\n",
        "import requests\n",
        "headers = {\"content-type\": \"application/json\"}\n",
        "# вызываем конкретную версию\n",
        "# json_response = requests.post('http://localhost:8505/v1/models/fashion_model/versions/1:predict', data=data, headers=headers)\n",
        "# по умолчанию будет работать самая старшая версия\n",
        "# json_response = requests.post('http://localhost:8505/v1/models/fashion_model:predict', data=data, headers=headers)\n",
        "# будет вызываться версия согласно version_labels[key]\n",
        "json_response = requests.post('http://localhost:8505/v1/models/fashion_model/labels/canary:predict', data=data, headers=headers)\n",
        "predictions = json_response.json()\n",
        "\n",
        "predictions['outputs']\n",
        "\n",
        "pred_class = np.argmax(predictions['outputs'], axis=1)[0]\n",
        "print('predicted class: ', pred_class,\n",
        "      '\\npredicted label:', label_descr[pred_class])"
      ],
      "execution_count": 149,
      "outputs": [
        {
          "output_type": "stream",
          "name": "stdout",
          "text": [
            "predicted class:  0 \n",
            "predicted label: T-shirt/top\n"
          ]
        }
      ]
    },
    {
      "cell_type": "markdown",
      "metadata": {
        "id": "gEJVnPHi9fHX"
      },
      "source": [
        "### обучим модель классифицировать датасет cifar10\n",
        "\n",
        "Label\tDescription\n",
        "* 0 airplane\n",
        "* 1\tautomobile\n",
        "* 2\tbird\n",
        "* 3\tcat\n",
        "* 4\tdeer\n",
        "* 5\tdog\n",
        "* 6\tfrog\n",
        "* 7\thorse\n",
        "* 8\tship\n",
        "* 9\ttruck"
      ]
    },
    {
      "cell_type": "code",
      "metadata": {
        "id": "faTLZbgI9X7w"
      },
      "source": [
        "# загрузим датасет \n",
        "(x_train_cifar, y_train_cifar), (x_test_cifar, y_test_cifar) = tf.keras.datasets.cifar10.load_data()\n",
        "y_train_cat = to_categorical(y_train_cifar, num_classes=10)\n",
        "y_test_cat = to_categorical(y_test_cifar, num_classes=10)\n",
        "\n",
        "\n",
        "# нормализуем данные\n",
        "x_train_cifar = x_train_cifar.astype('float')\n",
        "x_train_cifar = x_train_cifar/255.\n",
        "x_test_cifar = x_test_cifar.astype('float')\n",
        "x_test_cifar = x_test_cifar/255."
      ],
      "execution_count": 199,
      "outputs": []
    },
    {
      "cell_type": "code",
      "metadata": {
        "id": "T7pe7QCtJTb8"
      },
      "source": [
        "# создадим генератор изображений\n",
        "batch_size = 256\n",
        "num_classes = 10\n",
        "epochs = 10\n",
        "\n",
        "# размер входящего изображения\n",
        "img_rows, img_cols = 32, 32\n",
        "\n",
        "image_datagen_cifar = tf.keras.preprocessing.image.ImageDataGenerator(featurewise_center=True,\n",
        "                                                                      featurewise_std_normalization=True,\n",
        "                                                                      validation_split=0.2)\n",
        "image_datagen_cifar.fit(x_train_cifar)\n",
        "\n",
        "# train\n",
        "train_generator_cifar = image_datagen_cifar.flow(x_train_cifar,\n",
        "                                            y_train_cat,\n",
        "                                            shuffle=True,\n",
        "                                            batch_size=batch_size,\n",
        "                                            subset='training')\n",
        "# test\n",
        "valid_generator_cifar = image_datagen_cifar.flow(x_train_cifar,\n",
        "                                            y_train_cat,\n",
        "                                            shuffle=False,\n",
        "                                            batch_size=batch_size,\n",
        "                                            subset='validation')"
      ],
      "execution_count": 200,
      "outputs": []
    },
    {
      "cell_type": "code",
      "metadata": {
        "id": "oFk-TvFmBqiO"
      },
      "source": [
        "# опишем архитектруру нейросети\n",
        "\n",
        "model_cifar = Sequential()\n",
        "model_cifar.add(BatchNormalization(input_shape=(img_rows,img_cols,3)))\n",
        "model_cifar.add(Conv2D(32, kernel_size=(3, 3), activation='relu'))\n",
        "model_cifar.add(Conv2D(32, (3, 3), activation='relu'))\n",
        "model_cifar.add(MaxPooling2D(pool_size=(2, 2)))\n",
        "model_cifar.add(Dropout(0.25))\n",
        "model_cifar.add(Flatten())\n",
        "model_cifar.add(Dense(128, activation='relu'))\n",
        "model_cifar.add(Dropout(0.5))\n",
        "model_cifar.add(Dense(num_classes, activation='softmax'))\n",
        "\n",
        "model_cifar.compile(loss=tf.keras.losses.categorical_crossentropy, \n",
        "              optimizer=tf.keras.optimizers.Adam(learning_rate=0.001), \n",
        "              metrics=['accuracy'])"
      ],
      "execution_count": 208,
      "outputs": []
    },
    {
      "cell_type": "code",
      "metadata": {
        "colab": {
          "base_uri": "https://localhost:8080/"
        },
        "id": "dmc-JEOpBqgo",
        "outputId": "c93a339d-d8a0-4e4c-bb21-55d5c1e0565f"
      },
      "source": [
        "model_cifar.summary()"
      ],
      "execution_count": 210,
      "outputs": [
        {
          "output_type": "stream",
          "name": "stdout",
          "text": [
            "Model: \"sequential_16\"\n",
            "_________________________________________________________________\n",
            "Layer (type)                 Output Shape              Param #   \n",
            "=================================================================\n",
            "batch_normalization_56 (Batc (None, 32, 32, 3)         12        \n",
            "_________________________________________________________________\n",
            "conv2d_28 (Conv2D)           (None, 30, 30, 32)        896       \n",
            "_________________________________________________________________\n",
            "conv2d_29 (Conv2D)           (None, 28, 28, 32)        9248      \n",
            "_________________________________________________________________\n",
            "max_pooling2d_38 (MaxPooling (None, 14, 14, 32)        0         \n",
            "_________________________________________________________________\n",
            "dropout_58 (Dropout)         (None, 14, 14, 32)        0         \n",
            "_________________________________________________________________\n",
            "flatten_14 (Flatten)         (None, 6272)              0         \n",
            "_________________________________________________________________\n",
            "dense_28 (Dense)             (None, 128)               802944    \n",
            "_________________________________________________________________\n",
            "dropout_59 (Dropout)         (None, 128)               0         \n",
            "_________________________________________________________________\n",
            "dense_29 (Dense)             (None, 10)                1290      \n",
            "=================================================================\n",
            "Total params: 814,390\n",
            "Trainable params: 814,384\n",
            "Non-trainable params: 6\n",
            "_________________________________________________________________\n"
          ]
        }
      ]
    },
    {
      "cell_type": "code",
      "metadata": {
        "colab": {
          "base_uri": "https://localhost:8080/"
        },
        "id": "ANSA4K6pBqdn",
        "outputId": "4dbde9f8-f5d7-4468-b960-1fc5803cea69"
      },
      "source": [
        "# проведем обучение\n",
        "model_cifar.fit_generator(generator=train_generator_cifar,\n",
        "                    validation_data=valid_generator_cifar,\n",
        "                    # steps_per_epoch=len(x_train) // batch_size, \n",
        "                    epochs=epochs, \n",
        "                    verbose=1)"
      ],
      "execution_count": 209,
      "outputs": [
        {
          "output_type": "stream",
          "name": "stderr",
          "text": [
            "/usr/local/lib/python3.7/dist-packages/keras/engine/training.py:1972: UserWarning: `Model.fit_generator` is deprecated and will be removed in a future version. Please use `Model.fit`, which supports generators.\n",
            "  warnings.warn('`Model.fit_generator` is deprecated and '\n"
          ]
        },
        {
          "output_type": "stream",
          "name": "stdout",
          "text": [
            "Epoch 1/10\n",
            "157/157 [==============================] - 104s 657ms/step - loss: 1.7073 - accuracy: 0.3904 - val_loss: 1.3288 - val_accuracy: 0.5321\n",
            "Epoch 2/10\n",
            "157/157 [==============================] - 102s 648ms/step - loss: 1.3236 - accuracy: 0.5318 - val_loss: 1.1410 - val_accuracy: 0.5903\n",
            "Epoch 3/10\n",
            "157/157 [==============================] - 102s 653ms/step - loss: 1.1669 - accuracy: 0.5858 - val_loss: 1.0152 - val_accuracy: 0.6432\n",
            "Epoch 4/10\n",
            "157/157 [==============================] - 104s 664ms/step - loss: 1.0701 - accuracy: 0.6238 - val_loss: 0.9925 - val_accuracy: 0.6491\n",
            "Epoch 5/10\n",
            "157/157 [==============================] - 104s 664ms/step - loss: 1.0095 - accuracy: 0.6453 - val_loss: 0.9488 - val_accuracy: 0.6655\n",
            "Epoch 6/10\n",
            "157/157 [==============================] - 105s 667ms/step - loss: 0.9611 - accuracy: 0.6620 - val_loss: 0.9215 - val_accuracy: 0.6800\n",
            "Epoch 7/10\n",
            "157/157 [==============================] - 104s 663ms/step - loss: 0.9072 - accuracy: 0.6776 - val_loss: 0.9162 - val_accuracy: 0.6770\n",
            "Epoch 8/10\n",
            "157/157 [==============================] - 104s 664ms/step - loss: 0.8765 - accuracy: 0.6903 - val_loss: 0.9124 - val_accuracy: 0.6797\n",
            "Epoch 9/10\n",
            "157/157 [==============================] - 105s 666ms/step - loss: 0.8383 - accuracy: 0.7033 - val_loss: 0.8850 - val_accuracy: 0.6889\n",
            "Epoch 10/10\n",
            "157/157 [==============================] - 104s 666ms/step - loss: 0.8014 - accuracy: 0.7153 - val_loss: 0.8940 - val_accuracy: 0.6894\n"
          ]
        },
        {
          "output_type": "execute_result",
          "data": {
            "text/plain": [
              "<keras.callbacks.History at 0x7f485b86c850>"
            ]
          },
          "metadata": {},
          "execution_count": 209
        }
      ]
    },
    {
      "cell_type": "code",
      "metadata": {
        "colab": {
          "base_uri": "https://localhost:8080/"
        },
        "id": "f1graPaaBqaW",
        "outputId": "9ddd52aa-9284-4bb2-ff18-576d8b0f63ed"
      },
      "source": [
        "# укажем путь для сохранения модели cifar10 и сохраним сигнатуру\n",
        "\n",
        "version = 3\n",
        "export_path = os.path.join(MODEL_DIR, str(version))\n",
        "print('export_path = {}\\n'.format(export_path))\n",
        "\n",
        "module = MyModule(model_cifar, version)\n",
        "tf.saved_model.save(module, \n",
        "                    export_dir=export_path, \n",
        "                    signatures={ \"score\": module.score, \n",
        "                                \"metadata\": module.metadata })"
      ],
      "execution_count": 211,
      "outputs": [
        {
          "output_type": "stream",
          "name": "stdout",
          "text": [
            "export_path = /tmp/3\n",
            "\n",
            "shape: (1, None, None, None)\n",
            "INFO:tensorflow:Assets written to: /tmp/3/assets\n"
          ]
        }
      ]
    },
    {
      "cell_type": "code",
      "metadata": {
        "colab": {
          "base_uri": "https://localhost:8080/",
          "height": 335
        },
        "id": "w-_Z70s0JTYr",
        "outputId": "aa01590a-b4e4-4240-c685-bbaae7bca604"
      },
      "source": [
        "# Подготовка данных для запроса TF Serving\n",
        "\n",
        "n_img = random.randint(0,len(x_test_cifar)-1)\n",
        "# просмотр сигнатуры metadata\n",
        "# data = json.dumps({\"signature_name\": 'metadata', \"inputs\": {\"x\":x_test[0:3].tolist()}})\n",
        "data = json.dumps({\"signature_name\": 'score', \"inputs\": x_test_cifar[n_img].reshape(1, 32, 32, 3).tolist()})\n",
        "\n",
        "## Тестовое изображение\n",
        "import matplotlib.pyplot as plt\n",
        "def show_cifar(idx, title):\n",
        "  plt.figure()\n",
        "  plt.imshow(x_test_cifar[idx])\n",
        "  plt.axis('off')\n",
        "  plt.title('\\n\\n{}'.format(title), fontdict={'size': 16})\n",
        "\n",
        "show(n_img, 'Test Image')\n",
        "\n",
        "# получаем предсказание\n",
        "\n",
        "label_descr_cifar = {\n",
        "  0:\t'airplane',\n",
        "  1:\t'automobile',\n",
        "  2:\t'bird',\n",
        "  3:\t'cat',\n",
        "  4:\t'deer',\n",
        "  5:\t'dog',\n",
        "  6:\t'frog',\n",
        "  7:\t'horse',\n",
        "  8:\t'ship',\n",
        "  9:\t'truck'}\n",
        "\n",
        "headers = {\"content-type\": \"application/json\"}\n",
        "# будет вызываться версия согласно version_labels[key]\n",
        "json_response = requests.post('http://localhost:8505/v1/models/cifar_model/labels/canary:predict', data=data, headers=headers)\n",
        "predictions = json_response.json()\n",
        "\n",
        "predictions['outputs']\n",
        "\n",
        "pred_class = np.argmax(predictions['outputs'], axis=1)[0]\n",
        "print('predicted class: ', pred_class,\n",
        "      '\\npredicted label:', label_descr_cifar[pred_class])"
      ],
      "execution_count": 251,
      "outputs": [
        {
          "output_type": "stream",
          "name": "stdout",
          "text": [
            "predicted class:  2 \n",
            "predicted label: bird\n"
          ]
        },
        {
          "output_type": "display_data",
          "data": {
            "image/png": "[encoded data removed]",
            "text/plain": [
              "<Figure size 432x288 with 1 Axes>"
            ]
          },
          "metadata": {
            "needs_background": "light"
          }
        }
      ]
    },
    {
      "cell_type": "code",
      "metadata": {
        "colab": {
          "base_uri": "https://localhost:8080/"
        },
        "id": "gPMoRZg7OuD8",
        "outputId": "4a3c67ec-1afa-4984-9563-e41b801e6682"
      },
      "source": [
        "!tail server.log"
      ],
      "execution_count": 227,
      "outputs": [
        {
          "output_type": "stream",
          "name": "stdout",
          "text": [
            "2021-10-14 15:00:22.603308: I tensorflow_serving/model_servers/server.cc:133] Using InsecureServerCredentials\n",
            "2021-10-14 15:00:22.603334: I tensorflow_serving/model_servers/server.cc:383] Profiler service is enabled\n",
            "2021-10-14 15:00:22.603744: I tensorflow_serving/model_servers/server_core.cc:465] Adding/updating models.\n",
            "2021-10-14 15:00:22.603783: I tensorflow_serving/model_servers/server_core.cc:591]  (Re-)adding model: fashion_model\n",
            "2021-10-14 15:00:22.603824: I tensorflow_serving/model_servers/server_core.cc:591]  (Re-)adding model: cifar_model\n",
            "2021-10-14 15:00:22.603850: I tensorflow_serving/model_servers/server_core.cc:486] Finished adding/updating models\n",
            "2021-10-14 15:00:22.614590: I tensorflow_serving/model_servers/server.cc:409] Running gRPC ModelServer at 0.0.0.0:8500 ...\n",
            "[warn] getaddrinfo: address family for nodename not supported\n",
            "[evhttp_server.cc : 245] NET_LOG: Entering the event loop ...\n",
            "2021-10-14 15:00:22.625442: I tensorflow_serving/model_servers/server.cc:430] Exporting HTTP/REST API at:localhost:8505 ...\n"
          ]
        }
      ]
    },
    {
      "cell_type": "markdown",
      "metadata": {
        "id": "GKEx1L0TVrsL"
      },
      "source": [
        "### сделаем случайный выбор, при котором будет совершен запрос к нужной модели"
      ]
    },
    {
      "cell_type": "code",
      "metadata": {
        "colab": {
          "base_uri": "https://localhost:8080/"
        },
        "id": "6SLil29faagp",
        "outputId": "e8707f55-bdcc-4238-f4c5-07ca94d3bd7c"
      },
      "source": [
        "# для одновременного взаимодействия с моделями fashion mnist и cifar10 изменим конфиг\n",
        "!cat models.config"
      ],
      "execution_count": 300,
      "outputs": [
        {
          "output_type": "stream",
          "name": "stdout",
          "text": [
            "model_config_list {\n",
            "  config {\n",
            "    name: 'fashion_model'\n",
            "    base_path: '/tmp/'\n",
            "    model_platform: 'tensorflow'\n",
            "    model_version_policy {\n",
            "      specific {\n",
            "        versions: 1\n",
            "        versions: 2\n",
            "      }\n",
            "    }\n",
            "    version_labels {\n",
            "      key: 'stable'\n",
            "      value: 2\n",
            "    }\n",
            "    version_labels {\n",
            "      key: 'canary'\n",
            "      value: 2\n",
            "    }\n",
            "  }\n",
            "  config {\n",
            "    name: 'cifar_model'\n",
            "    base_path: '/tmp/'\n",
            "    model_platform: 'tensorflow'\n",
            "    model_version_policy {\n",
            "      specific {\n",
            "        versions: 1\n",
            "        versions: 2\n",
            "        versions: 3\n",
            "      }\n",
            "    }\n",
            "    version_labels {\n",
            "      key: 'stable'\n",
            "      value: 3\n",
            "    }\n",
            "    version_labels {\n",
            "      key: 'canary'\n",
            "      value: 3\n",
            "    }\n",
            "  }\n",
            "}\n"
          ]
        }
      ]
    },
    {
      "cell_type": "code",
      "metadata": {
        "colab": {
          "base_uri": "https://localhost:8080/",
          "height": 352
        },
        "id": "Dt85SHwiVRh0",
        "outputId": "3be82d22-8c9c-4d5e-b74b-bc4c98186428"
      },
      "source": [
        "# сделаем случайный выбор, если 0, то пример из fashion_mnist, 1 - cifar10\n",
        "\n",
        "def get_random_model():\n",
        "  rnd_test = random.randint(0,1)\n",
        "\n",
        "  if rnd_test:\n",
        "    n_img = random.randint(0,len(x_test_cifar)-1) # случайное изображение датасета  \n",
        "    data = json.dumps({\"signature_name\": 'score', \"inputs\": x_test_cifar[n_img].reshape(1, 32, 32, 3).tolist()})\n",
        "    show_cifar(n_img, 'Test Image Cifar')\n",
        "    json_response = requests.post('http://localhost:8505/v1/models/cifar_model/labels/canary:predict', data=data, headers=headers)\n",
        "    labels = label_descr_cifar\n",
        "  else:\n",
        "    n_img = random.randint(0,len(x_test)-1) # случайное изображение датасета  \n",
        "    data = json.dumps({\"signature_name\": 'score', \"inputs\": x_test[n_img].reshape(1, 28, 28, 1).tolist()})\n",
        "    show(n_img, 'Test Image Fashion MNIST')\n",
        "    json_response = requests.post('http://localhost:8505/v1/models/fashion_model/labels/canary:predict', data=data, headers=headers)\n",
        "    labels = label_descr\n",
        "\n",
        "  predictions = json_response.json()\n",
        "\n",
        "  print(predictions['outputs'])\n",
        "\n",
        "  pred_class = np.argmax(predictions['outputs'], axis=1)[0]\n",
        "  print('predicted class: ', pred_class,\n",
        "        '\\npredicted label:', labels[pred_class])\n",
        "  \n",
        "get_random_model()"
      ],
      "execution_count": 265,
      "outputs": [
        {
          "output_type": "stream",
          "name": "stdout",
          "text": [
            "[[0.434081912, 0.00673348084, 0.138465419, 0.033039961, 0.0511850901, 0.00541548803, 0.26763165, 0.00687833643, 0.0525218472, 0.00404682895]]\n",
            "predicted class:  0 \n",
            "predicted label: T-shirt/top\n"
          ]
        },
        {
          "output_type": "display_data",
          "data": {
            "image/png": "[encoded data removed]",
            "text/plain": [
              "<Figure size 432x288 with 1 Axes>"
            ]
          },
          "metadata": {
            "needs_background": "light"
          }
        }
      ]
    },
    {
      "cell_type": "code",
      "metadata": {
        "colab": {
          "base_uri": "https://localhost:8080/",
          "height": 352
        },
        "id": "lm2Qxoa1Yeup",
        "outputId": "ec700c5f-9b6e-4ef7-8e5e-af2ff8452e70"
      },
      "source": [
        "get_random_model()"
      ],
      "execution_count": 269,
      "outputs": [
        {
          "output_type": "stream",
          "name": "stdout",
          "text": [
            "[[0.0572294, 0.0130970106, 0.00325491559, 0.885371208, 0.013352205, 0.000544430513, 0.0209443159, 0.00315202074, 0.00144100853, 0.00161358353]]\n",
            "predicted class:  3 \n",
            "predicted label: Dress\n"
          ]
        },
        {
          "output_type": "display_data",
          "data": {
            "image/png": "[encoded data removed]",
            "text/plain": [
              "<Figure size 432x288 with 1 Axes>"
            ]
          },
          "metadata": {
            "needs_background": "light"
          }
        }
      ]
    },
    {
      "cell_type": "code",
      "metadata": {
        "colab": {
          "base_uri": "https://localhost:8080/",
          "height": 352
        },
        "id": "0PfB6gM8Yes7",
        "outputId": "190920da-5249-47cd-c6b0-dbd7340daa28"
      },
      "source": [
        "get_random_model()"
      ],
      "execution_count": 270,
      "outputs": [
        {
          "output_type": "stream",
          "name": "stdout",
          "text": [
            "[[0.121286452, 0.00162722927, 0.319627, 0.0869022831, 0.350264549, 0.0749025866, 0.0146673163, 0.0139084263, 0.0154793533, 0.00133477338]]\n",
            "predicted class:  4 \n",
            "predicted label: deer\n"
          ]
        },
        {
          "output_type": "display_data",
          "data": {
            "image/png": "[encoded data removed]",
            "text/plain": [
              "<Figure size 432x288 with 1 Axes>"
            ]
          },
          "metadata": {
            "needs_background": "light"
          }
        }
      ]
    },
    {
      "cell_type": "code",
      "metadata": {
        "colab": {
          "base_uri": "https://localhost:8080/",
          "height": 352
        },
        "id": "X-PPPuG3YepL",
        "outputId": "ba0ba6ca-3f31-4bba-ac7b-99a52e4531cf"
      },
      "source": [
        "get_random_model()"
      ],
      "execution_count": 293,
      "outputs": [
        {
          "output_type": "stream",
          "name": "stdout",
          "text": [
            "[[0.104828797, 0.00764934532, 0.134385228, 0.206608504, 0.172078192, 0.0625179335, 0.228354305, 0.00406745216, 0.0742416307, 0.00526858959]]\n",
            "predicted class:  6 \n",
            "predicted label: frog\n"
          ]
        },
        {
          "output_type": "display_data",
          "data": {
            "image/png": "[encoded data removed]",
            "text/plain": [
              "<Figure size 432x288 with 1 Axes>"
            ]
          },
          "metadata": {
            "needs_background": "light"
          }
        }
      ]
    },
    {
      "cell_type": "code",
      "metadata": {
        "colab": {
          "base_uri": "https://localhost:8080/",
          "height": 352
        },
        "id": "O0jkerSJXZV6",
        "outputId": "67cd3b16-9dd3-4390-a619-7e0a285b177c"
      },
      "source": [
        "get_random_model()"
      ],
      "execution_count": 297,
      "outputs": [
        {
          "output_type": "stream",
          "name": "stdout",
          "text": [
            "[[0.00799616799, 0.0103140166, 0.00410580868, 0.00843319762, 0.00754385581, 0.0127370944, 0.00676756212, 0.0555251688, 0.00665879762, 0.879918337]]\n",
            "predicted class:  9 \n",
            "predicted label: Ankle boot\n"
          ]
        },
        {
          "output_type": "display_data",
          "data": {
            "image/png": "[encoded data removed]",
            "text/plain": [
              "<Figure size 432x288 with 1 Axes>"
            ]
          },
          "metadata": {
            "needs_background": "light"
          }
        }
      ]
    }
  ]
}