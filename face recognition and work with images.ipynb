{
 "cells": [
  {
   "cell_type": "markdown",
   "metadata": {},
   "source": [
    "# РАБОТА С ИЗОБРАЖЕНИЯМИ И РАСПОЗНАВАНИЕ ЛИЦ"
   ]
  },
  {
   "cell_type": "markdown",
   "metadata": {},
   "source": [
    "Данильченко Вадим"
   ]
  },
  {
   "cell_type": "code",
   "execution_count": 9,
   "metadata": {},
   "outputs": [],
   "source": [
    "# pip install opencv-contrib-python - установка из заранее собранных пакетов\n",
    "import cv2\n",
    "from PIL import Image, ImageDraw, ImageColor, ImageFont\n",
    "import os"
   ]
  },
  {
   "cell_type": "code",
   "execution_count": 10,
   "metadata": {},
   "outputs": [],
   "source": [
    "# Заполним все поля в билете на самолет.\n",
    "# для этого создадим функцию, принимающую параметры: ФИО, откуда, куда, дата вылета,\n",
    "# и заполняющую ими шаблон билета Skillbox Airline.\n",
    "\n",
    "def make_ticket(fio, from_, to, date):\n",
    "    fio = fio\n",
    "    flight_from = from_\n",
    "    flight_to = to\n",
    "    flight_date = date\n",
    "    filename = r'external_data/ticket_template.png'\n",
    "    #lesson_path = r'python_base/lesson_013'\n",
    "    path_to_file = os.path.join(os.getcwd(), filename)\n",
    "    picture = Image.open(path_to_file)\n",
    "    draw = ImageDraw.Draw(picture)\n",
    "    font = ImageFont.truetype('arial.ttf', 15)\n",
    "    draw.text((40, 120), fio, fill=ImageColor.colormap['black'], font=font)\n",
    "    draw.text((40, 190), flight_from, fill=ImageColor.colormap['black'], font=font)\n",
    "    draw.text((40, 260), flight_to, fill=ImageColor.colormap['black'], font=font)\n",
    "    draw.text((280, 260), flight_date, fill=ImageColor.colormap['black'], font=font)\n",
    "    Image._show(picture)\n",
    "    pass\n",
    "\n",
    "make_ticket('Данильченко Вадим', 'Москва', 'Марс', '01.01.2035')"
   ]
  },
  {
   "cell_type": "markdown",
   "metadata": {},
   "source": [
    "результат"
   ]
  },
  {
   "cell_type": "markdown",
   "metadata": {},
   "source": [
    "![alt text](external_data/airplan_ticket.png \"ticket picture\")"
   ]
  },
  {
   "cell_type": "markdown",
   "metadata": {},
   "source": [
    "------------------------------------------------------------------------------------------------------------------------------"
   ]
  },
  {
   "cell_type": "markdown",
   "metadata": {},
   "source": [
    "поиграем с изображением"
   ]
  },
  {
   "cell_type": "code",
   "execution_count": 7,
   "metadata": {},
   "outputs": [],
   "source": [
    "image_cv2 = cv2.imread('external_data/Lenna.png')\n",
    "# Загрузка происходит не в привычном нам RGB,а в BGR!\n",
    "viewImage(image_cv2, 'original picture')"
   ]
  },
  {
   "cell_type": "code",
   "execution_count": 2,
   "metadata": {},
   "outputs": [],
   "source": [
    "# Добавим небольшую функцию для отображения изображений в окнах windows:\n",
    "def viewImage(image, name_of_window):\n",
    "    cv2.namedWindow(name_of_window, cv2.WINDOW_NORMAL)\n",
    "    cv2.imshow(name_of_window, image)\n",
    "    cv2.waitKey(0)\n",
    "    cv2.destroyAllWindows()"
   ]
  },
  {
   "cell_type": "markdown",
   "metadata": {},
   "source": [
    "![alt text](external_data/Lenna.png \"original picture\")"
   ]
  },
  {
   "cell_type": "markdown",
   "metadata": {},
   "source": [
    "Возможности OpenCV:"
   ]
  },
  {
   "cell_type": "code",
   "execution_count": 9,
   "metadata": {},
   "outputs": [],
   "source": [
    "# Ресайз слайсами:\n",
    "cropped = image_cv2[250:2000, 100:1500]\n",
    "viewImage(cropped, 'Cropped version')"
   ]
  },
  {
   "cell_type": "markdown",
   "metadata": {},
   "source": [
    "![alt text](external_data/Lenna_cropped.png \"cropped picture\")"
   ]
  },
  {
   "cell_type": "code",
   "execution_count": 10,
   "metadata": {},
   "outputs": [],
   "source": [
    "# Процентное изменение размера:\n",
    "\n",
    "scale_percent = 20  # Процент от изначального размера\n",
    "width = int(image_cv2.shape[1] * scale_percent / 100)\n",
    "height = int(image_cv2.shape[0] * scale_percent / 100)\n",
    "dim = (width, height)\n",
    "resized = cv2.resize(image_cv2, dim, interpolation=cv2.INTER_AREA)\n",
    "viewImage(resized, 'Resized version')"
   ]
  },
  {
   "cell_type": "markdown",
   "metadata": {},
   "source": [
    "![alt text](external_data/Lenna_resized.png \"resized picture\")"
   ]
  },
  {
   "cell_type": "code",
   "execution_count": 11,
   "metadata": {},
   "outputs": [],
   "source": [
    "# Изменение цветовой гаммы:\n",
    "\n",
    "gray_image = cv2.cvtColor(image_cv2, cv2.COLOR_BGR2GRAY)\n",
    "viewImage(gray_image, 'Gray version')\n",
    "# Интересно, что gray_image — это одноканальная версия изображения\n",
    "# Что заметно уменьшает количество значений для обработки"
   ]
  },
  {
   "cell_type": "markdown",
   "metadata": {},
   "source": [
    "![alt text](external_data/Lenna_gray.png \"Gray picture\")"
   ]
  },
  {
   "cell_type": "code",
   "execution_count": 21,
   "metadata": {},
   "outputs": [
    {
     "data": {
      "text/plain": [
       "(512, 512)"
      ]
     },
     "execution_count": 21,
     "metadata": {},
     "output_type": "execute_result"
    }
   ],
   "source": [
    "image_with_line.shape"
   ]
  },
  {
   "cell_type": "code",
   "execution_count": 30,
   "metadata": {},
   "outputs": [],
   "source": [
    "# Рисование на изображениях:\n",
    "\n",
    "image_with_line = gray_image.copy()\n",
    "image_with_line.shape\n",
    "cv2.line(image_with_line, (int(image_with_line.shape[1]/2)-10, 265), \n",
    "         (int(image_with_line.shape[1]/2)+100, 265), (255, 255, 255), 20)\n",
    "# Для отрисовки линии необходимы координаты начала и конца, цвет и ширина линии\n",
    "viewImage(image_with_line, 'Line')"
   ]
  },
  {
   "cell_type": "markdown",
   "metadata": {},
   "source": [
    "![alt text](external_data/Lenna_gray_line.png \"Gray picture with line\")"
   ]
  },
  {
   "cell_type": "code",
   "execution_count": 31,
   "metadata": {},
   "outputs": [],
   "source": [
    "# выделим лицо прямоугольником\n",
    "image_with_rectangle = image_cv2.copy()\n",
    "cv2.rectangle(image_with_rectangle, (200, 200), (400, 400), (0, 255, 255), 10)\n",
    "# Для отрисовки прямоугольника необходимы координаты левого верхнего и правого нижнего углов\n",
    "# + цвет линии и её ширина\n",
    "viewImage(image_with_rectangle, 'Rectangle')"
   ]
  },
  {
   "cell_type": "markdown",
   "metadata": {},
   "source": [
    "![alt text](external_data/Lenna_rectangle.png \"Rectangle\")"
   ]
  },
  {
   "cell_type": "markdown",
   "metadata": {},
   "source": [
    "### Пример с распознаванием лиц:"
   ]
  },
  {
   "cell_type": "markdown",
   "metadata": {},
   "source": [
    "исходное изображение"
   ]
  },
  {
   "cell_type": "markdown",
   "metadata": {},
   "source": [
    "![alt text](external_data/original_faces.png \"peoples faces\")"
   ]
  },
  {
   "cell_type": "code",
   "execution_count": 33,
   "metadata": {},
   "outputs": [],
   "source": [
    "face_cascade = cv2.CascadeClassifier('external_data/haarcascade_frontalface_default.xml')\n",
    "image = cv2.imread('external_data/peoples faces.png')\n",
    "gray = cv2.cvtColor(image, cv2.COLOR_BGR2GRAY)\n",
    "faces = face_cascade.detectMultiScale(\n",
    "    gray,\n",
    "    scaleFactor=1.1,\n",
    "    minNeighbors=5,\n",
    "    minSize=(10, 10)\n",
    ")\n",
    "# Рисуем квадраты вокруг лиц\n",
    "for (x, y, w, h) in faces:\n",
    "    cv2.rectangle(image, (x, y), (x+w, y+h), (255, 255, 0), 10)\n",
    "viewImage(image, 'Detected face')"
   ]
  },
  {
   "cell_type": "markdown",
   "metadata": {},
   "source": [
    "результат"
   ]
  },
  {
   "cell_type": "markdown",
   "metadata": {},
   "source": [
    "![alt text](external_data/recognized_faces.png \"recognized faces\")"
   ]
  }
 ],
 "metadata": {
  "kernelspec": {
   "display_name": "Python 3",
   "language": "python",
   "name": "python3"
  },
  "language_info": {
   "codemirror_mode": {
    "name": "ipython",
    "version": 3
   },
   "file_extension": ".py",
   "mimetype": "text/x-python",
   "name": "python",
   "nbconvert_exporter": "python",
   "pygments_lexer": "ipython3",
   "version": "3.7.4"
  }
 },
 "nbformat": 4,
 "nbformat_minor": 2
}
